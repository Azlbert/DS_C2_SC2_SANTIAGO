{
  "nbformat": 4,
  "nbformat_minor": 0,
  "metadata": {
    "colab": {
      "provenance": []
    },
    "kernelspec": {
      "name": "python3",
      "display_name": "Python 3"
    },
    "language_info": {
      "name": "python"
    }
  },
  "cells": [
    {
      "cell_type": "markdown",
      "source": [
        "Primero validemos si tenemos presente las librerias, en caso de que no, se deberá ejecutar lo siguiente\n",
        "\n",
        "\n",
        "```\n",
        "!pip install numpy\n",
        "!pip install pandas\n",
        "```\n"
      ],
      "metadata": {
        "id": "HHTsT3a6SaB_"
      }
    },
    {
      "cell_type": "code",
      "execution_count": 1,
      "metadata": {
        "colab": {
          "base_uri": "https://localhost:8080/"
        },
        "id": "dA2wzMwGC6p_",
        "outputId": "147117b7-3737-4f5e-801a-b579236a974a"
      },
      "outputs": [
        {
          "output_type": "stream",
          "name": "stdout",
          "text": [
            "Name: numpy\n",
            "Version: 1.22.4\n",
            "Summary: NumPy is the fundamental package for array computing with Python.\n",
            "Home-page: https://www.numpy.org\n",
            "Author: Travis E. Oliphant et al.\n",
            "Author-email: \n",
            "License: BSD\n",
            "Location: /usr/local/lib/python3.10/dist-packages\n",
            "Requires: \n",
            "Required-by: albumentations, altair, arviz, astropy, autograd, blis, bokeh, chex, cmdstanpy, contourpy, cufflinks, cvxpy, datascience, db-dtypes, dopamine-rl, ecos, flax, folium, gensim, gym, h5py, holoviews, hyperopt, imageio, imbalanced-learn, imgaug, jax, jaxlib, librosa, lightgbm, matplotlib, matplotlib-venn, missingno, mizani, ml-dtypes, mlxtend, moviepy, music21, nibabel, numba, numexpr, opencv-contrib-python, opencv-python, opencv-python-headless, opt-einsum, optax, orbax-checkpoint, osqp, pandas, pandas-gbq, patsy, plotnine, prophet, pyarrow, pycocotools, pyerfa, pymc, pytensor, python-louvain, PyWavelets, qdldl, qudida, scikit-image, scikit-learn, scipy, scs, seaborn, shapely, sklearn-pandas, soxr, spacy, statsmodels, tables, tensorboard, tensorflow, tensorflow-datasets, tensorflow-hub, tensorflow-probability, tensorstore, thinc, tifffile, torchtext, torchvision, wordcloud, xarray, xarray-einstats, xgboost, yellowbrick, yfinance\n"
          ]
        }
      ],
      "source": [
        "!pip show numpy"
      ]
    },
    {
      "cell_type": "code",
      "source": [
        "!pip show pandas"
      ],
      "metadata": {
        "colab": {
          "base_uri": "https://localhost:8080/"
        },
        "id": "5fI39jQZTObI",
        "outputId": "a7efcec4-1098-49ee-e129-54f124ce5b58"
      },
      "execution_count": 2,
      "outputs": [
        {
          "output_type": "stream",
          "name": "stdout",
          "text": [
            "Name: pandas\n",
            "Version: 1.5.3\n",
            "Summary: Powerful data structures for data analysis, time series, and statistics\n",
            "Home-page: https://pandas.pydata.org\n",
            "Author: The Pandas Development Team\n",
            "Author-email: pandas-dev@python.org\n",
            "License: BSD-3-Clause\n",
            "Location: /usr/local/lib/python3.10/dist-packages\n",
            "Requires: numpy, python-dateutil, pytz\n",
            "Required-by: altair, arviz, cmdstanpy, cufflinks, datascience, db-dtypes, dopamine-rl, fastai, geopandas, google-colab, gspread-dataframe, holoviews, mizani, mlxtend, pandas-datareader, pandas-gbq, plotnine, prophet, pymc, seaborn, sklearn-pandas, statsmodels, vega-datasets, xarray, yfinance\n"
          ]
        }
      ]
    },
    {
      "cell_type": "markdown",
      "source": [
        "Ya que aseguramos que existen, pasamos a importar para proseguir con el reto."
      ],
      "metadata": {
        "id": "a8S_3H2RS1MW"
      }
    },
    {
      "cell_type": "code",
      "source": [
        "import numpy as np\n",
        "import pandas as pd"
      ],
      "metadata": {
        "id": "SQd-0COeTAro"
      },
      "execution_count": 3,
      "outputs": []
    },
    {
      "cell_type": "markdown",
      "source": [
        "a.- Extraemos la informacion del archivo usando pandas"
      ],
      "metadata": {
        "id": "zt-ZgzRix_5i"
      }
    },
    {
      "cell_type": "code",
      "source": [
        "filename = \"country_vaccinations.csv\"\n",
        "\n",
        "cv = pd.read_csv(filename)"
      ],
      "metadata": {
        "id": "2MkSsJSZyDBu"
      },
      "execution_count": 4,
      "outputs": []
    },
    {
      "cell_type": "markdown",
      "source": [
        "b.- Mostramos la estructura y tipos de datos de cada columna para identificar qué operaciones puedes realizar con cada una de ellas, nos aseguramos que las columnas con fechas sean del tipo **datetime64**."
      ],
      "metadata": {
        "id": "DEAMVu6Oy33I"
      }
    },
    {
      "cell_type": "code",
      "source": [
        "cv[['date']] = cv[['date']].apply(pd.to_datetime)\n",
        "cv['total_vaccinations'] = cv['total_vaccinations'].astype('Int64').fillna(0)\n",
        "cv['daily_vaccinations'] = cv['daily_vaccinations'].astype('Int64').fillna(0)\n",
        "cv['daily_vaccinations_raw'] = cv['daily_vaccinations_raw'].astype('Int64').fillna(0)\n",
        "\n",
        "print(cv.info())"
      ],
      "metadata": {
        "colab": {
          "base_uri": "https://localhost:8080/"
        },
        "id": "X6cDbJ1IzCHE",
        "outputId": "81103ebb-fa1a-4e11-85d1-747c102a9662"
      },
      "execution_count": 5,
      "outputs": [
        {
          "output_type": "stream",
          "name": "stdout",
          "text": [
            "<class 'pandas.core.frame.DataFrame'>\n",
            "RangeIndex: 86512 entries, 0 to 86511\n",
            "Data columns (total 15 columns):\n",
            " #   Column                               Non-Null Count  Dtype         \n",
            "---  ------                               --------------  -----         \n",
            " 0   country                              86512 non-null  object        \n",
            " 1   iso_code                             86512 non-null  object        \n",
            " 2   date                                 86512 non-null  datetime64[ns]\n",
            " 3   total_vaccinations                   86512 non-null  Int64         \n",
            " 4   people_vaccinated                    41294 non-null  float64       \n",
            " 5   people_fully_vaccinated              38802 non-null  float64       \n",
            " 6   daily_vaccinations_raw               86512 non-null  Int64         \n",
            " 7   daily_vaccinations                   86512 non-null  Int64         \n",
            " 8   total_vaccinations_per_hundred       43607 non-null  float64       \n",
            " 9   people_vaccinated_per_hundred        41294 non-null  float64       \n",
            " 10  people_fully_vaccinated_per_hundred  38802 non-null  float64       \n",
            " 11  daily_vaccinations_per_million       86213 non-null  float64       \n",
            " 12  vaccines                             86512 non-null  object        \n",
            " 13  source_name                          86512 non-null  object        \n",
            " 14  source_website                       86512 non-null  object        \n",
            "dtypes: Int64(3), datetime64[ns](1), float64(6), object(5)\n",
            "memory usage: 10.1+ MB\n",
            "None\n"
          ]
        }
      ]
    },
    {
      "cell_type": "markdown",
      "source": [
        "c.- Determinamos la cantidad de vacunas aplicadas de cada compañía (con base en cómo lo reporta cada país en la columna **vaccines**, en otras palabras, agrupe por vaccines y realice la sumatoria)."
      ],
      "metadata": {
        "id": "IPHpZ5VO02I0"
      }
    },
    {
      "cell_type": "code",
      "source": [
        "vaccine_counts = cv['vaccines'].str.split(', ', expand=True).stack().value_counts()\n",
        "\n",
        "print(vaccine_counts)"
      ],
      "metadata": {
        "colab": {
          "base_uri": "https://localhost:8080/"
        },
        "id": "WK106Ga304kV",
        "outputId": "ff4bd6e0-a6d9-486f-f0d5-a2448dd4b393"
      },
      "execution_count": 6,
      "outputs": [
        {
          "output_type": "stream",
          "name": "stdout",
          "text": [
            "Oxford/AstraZeneca    71331\n",
            "Pfizer/BioNTech       64193\n",
            "Moderna               37417\n",
            "Johnson&Johnson       35949\n",
            "Sinopharm/Beijing     34638\n",
            "Sputnik V             23060\n",
            "Sinovac               19892\n",
            "Novavax                4935\n",
            "Covaxin                3435\n",
            "Sputnik Light          3116\n",
            "CanSino                3073\n",
            "Soberana02             1527\n",
            "Abdala                 1493\n",
            "ZF2001                 1008\n",
            "Sinopharm/Wuhan         919\n",
            "EpiVacCorona            660\n",
            "QazVac                  613\n",
            "Turkovac                441\n",
            "COVIran Barekat         415\n",
            "FAKHRAVAC               415\n",
            "Razi Cov Pars           415\n",
            "SpikoGen                415\n",
            "Medigen                 374\n",
            "Soberana Plus           320\n",
            "dtype: int64\n"
          ]
        }
      ]
    },
    {
      "cell_type": "markdown",
      "source": [
        "d.- Obtenemos la cantidad de vacunas aplicadas en todo el mundo."
      ],
      "metadata": {
        "id": "DuIl_x727B28"
      }
    },
    {
      "cell_type": "code",
      "source": [
        "total_vaccine_applied = cv['total_vaccinations'].sum()\n",
        "print(total_vaccine_applied)"
      ],
      "metadata": {
        "colab": {
          "base_uri": "https://localhost:8080/"
        },
        "id": "EGcwbrYl7IYz",
        "outputId": "c619d3ae-3860-4961-c63d-9e83b96760dc"
      },
      "execution_count": 7,
      "outputs": [
        {
          "output_type": "stream",
          "name": "stdout",
          "text": [
            "2002854013761\n"
          ]
        }
      ]
    },
    {
      "cell_type": "markdown",
      "source": [
        "e.- Calculamos el promedio de vacunas aplicadas por país."
      ],
      "metadata": {
        "id": "i3dPx3Dp8nks"
      }
    },
    {
      "cell_type": "code",
      "source": [
        "average_vaccines_per_country = cv.groupby('country')['total_vaccinations'].mean()\n",
        "\n",
        "print(average_vaccines_per_country)"
      ],
      "metadata": {
        "colab": {
          "base_uri": "https://localhost:8080/"
        },
        "id": "YYr6vYE68saZ",
        "outputId": "41c75285-847a-4938-af18-9796e6a4736d"
      },
      "execution_count": 8,
      "outputs": [
        {
          "output_type": "stream",
          "name": "stdout",
          "text": [
            "country\n",
            "Afghanistan           299597.527919\n",
            "Albania               673212.904328\n",
            "Algeria               589990.276543\n",
            "Andorra                 5926.496368\n",
            "Angola                996769.853846\n",
            "                          ...      \n",
            "Wales                4086214.866817\n",
            "Wallis and Futuna        985.760108\n",
            "Yemen                  33804.189103\n",
            "Zambia                578163.962857\n",
            "Zimbabwe             3923493.664198\n",
            "Name: total_vaccinations, Length: 223, dtype: Float64\n"
          ]
        }
      ]
    },
    {
      "cell_type": "markdown",
      "source": [
        "f.- Determinamos la cantidad de vacunas aplicadas el día 29/01/21 en todo el mundo."
      ],
      "metadata": {
        "id": "I1p71FV18-t2"
      }
    },
    {
      "cell_type": "code",
      "source": [
        "filtered_data = cv[cv['date'] == '2021-01-29']\n",
        "\n",
        "total_vaccines_on_date = filtered_data['total_vaccinations'].sum()\n",
        "print(total_vaccines_on_date)"
      ],
      "metadata": {
        "colab": {
          "base_uri": "https://localhost:8080/"
        },
        "id": "NulGhHTu9DMQ",
        "outputId": "40fc1169-ecf9-46bd-a9aa-3bed13f10fcd"
      },
      "execution_count": 9,
      "outputs": [
        {
          "output_type": "stream",
          "name": "stdout",
          "text": [
            "82952931\n"
          ]
        }
      ]
    },
    {
      "cell_type": "markdown",
      "source": [
        "g.- Creamos un dataframe nuevo denominado conDiferencias que contenga los datos originales y una columna derivada (diferencias) con las diferencias de aplicación entre las columnas daily_vaccionations y daily_vaccionations_raw."
      ],
      "metadata": {
        "id": "yUgOIeSr9cMM"
      }
    },
    {
      "cell_type": "code",
      "source": [
        "conDiferencias = cv.copy()\n",
        "conDiferencias['diferencias'] = conDiferencias['daily_vaccinations'] - conDiferencias['daily_vaccinations_raw']\n",
        "\n",
        "print(conDiferencias[['daily_vaccinations','daily_vaccinations_raw','diferencias']])"
      ],
      "metadata": {
        "colab": {
          "base_uri": "https://localhost:8080/"
        },
        "id": "eV0-vgLQ9xnh",
        "outputId": "f88c287a-0cba-4bc5-c6cd-be2df9677839"
      },
      "execution_count": 10,
      "outputs": [
        {
          "output_type": "stream",
          "name": "stdout",
          "text": [
            "       daily_vaccinations  daily_vaccinations_raw  diferencias\n",
            "0                       0                       0            0\n",
            "1                    1367                       0         1367\n",
            "2                    1367                       0         1367\n",
            "3                    1367                       0         1367\n",
            "4                    1367                       0         1367\n",
            "...                   ...                     ...          ...\n",
            "86507               69579                  139213       -69634\n",
            "86508               83429                  100086       -16657\n",
            "86509               90629                   53311        37318\n",
            "86510              100614                   89321        11293\n",
            "86511              103751                  105369        -1618\n",
            "\n",
            "[86512 rows x 3 columns]\n"
          ]
        }
      ]
    },
    {
      "cell_type": "markdown",
      "source": [
        "h.- Obtenemos el periodo de tiempo entre el registro con fecha más reciente y el registro con fecha más antigua."
      ],
      "metadata": {
        "id": "AXmTW2BlBQ78"
      }
    },
    {
      "cell_type": "code",
      "source": [
        "fecha_mas_reciente = conDiferencias['date'].max()\n",
        "fecha_mas_antigua = conDiferencias['date'].min()\n",
        "\n",
        "periodo_tiempo = fecha_mas_reciente - fecha_mas_antigua\n",
        "\n",
        "print(\"Periodo de tiempo:\", periodo_tiempo)"
      ],
      "metadata": {
        "colab": {
          "base_uri": "https://localhost:8080/"
        },
        "id": "ZMAZwh38B9oV",
        "outputId": "bc620946-d753-4546-cfb9-8d6a233378db"
      },
      "execution_count": 11,
      "outputs": [
        {
          "output_type": "stream",
          "name": "stdout",
          "text": [
            "Periodo de tiempo: 482 days 00:00:00\n"
          ]
        }
      ]
    },
    {
      "cell_type": "markdown",
      "source": [
        "i.- Creamos un dataframe nuevo denominado conCantidad que contenga los datos originales y una columna derivada (canVac) con la cantidad de vacunas utilizadas cada día (usar la columna vaccines y separar por el carácter , )."
      ],
      "metadata": {
        "id": "RooXZBqSBYkB"
      }
    },
    {
      "cell_type": "code",
      "source": [
        "conCantidad = conDiferencias.copy()\n",
        "\n",
        "conCantidad['canVac'] = conCantidad['vaccines'].str.split(',').str.len()\n",
        "\n",
        "print(conCantidad[['vaccines','canVac']])"
      ],
      "metadata": {
        "colab": {
          "base_uri": "https://localhost:8080/"
        },
        "id": "k59F0-unCcuW",
        "outputId": "a2d4a92f-1779-4b85-a87e-8551f85c045a"
      },
      "execution_count": 12,
      "outputs": [
        {
          "output_type": "stream",
          "name": "stdout",
          "text": [
            "                                                vaccines  canVac\n",
            "0      Johnson&Johnson, Oxford/AstraZeneca, Pfizer/Bi...       4\n",
            "1      Johnson&Johnson, Oxford/AstraZeneca, Pfizer/Bi...       4\n",
            "2      Johnson&Johnson, Oxford/AstraZeneca, Pfizer/Bi...       4\n",
            "3      Johnson&Johnson, Oxford/AstraZeneca, Pfizer/Bi...       4\n",
            "4      Johnson&Johnson, Oxford/AstraZeneca, Pfizer/Bi...       4\n",
            "...                                                  ...     ...\n",
            "86507  Oxford/AstraZeneca, Sinopharm/Beijing, Sinovac...       4\n",
            "86508  Oxford/AstraZeneca, Sinopharm/Beijing, Sinovac...       4\n",
            "86509  Oxford/AstraZeneca, Sinopharm/Beijing, Sinovac...       4\n",
            "86510  Oxford/AstraZeneca, Sinopharm/Beijing, Sinovac...       4\n",
            "86511  Oxford/AstraZeneca, Sinopharm/Beijing, Sinovac...       4\n",
            "\n",
            "[86512 rows x 2 columns]\n"
          ]
        }
      ]
    },
    {
      "cell_type": "markdown",
      "source": [
        "j.- Generamos un dataframe denominado antes20 con todos los registros que se hayan realizado antes del 20 de diciembre de 2020."
      ],
      "metadata": {
        "id": "KeW4rcLNBypu"
      }
    },
    {
      "cell_type": "code",
      "source": [
        "antes20 = cv[cv['date'] < '2020-12-20']\n",
        "\n",
        "print(antes20)"
      ],
      "metadata": {
        "colab": {
          "base_uri": "https://localhost:8080/"
        },
        "id": "raZmfHgtDCZs",
        "outputId": "5be34f2c-b388-47a5-f292-473354af3ffb"
      },
      "execution_count": 13,
      "outputs": [
        {
          "output_type": "stream",
          "name": "stdout",
          "text": [
            "             country iso_code       date  total_vaccinations  \\\n",
            "13403         Canada      CAN 2020-12-14                   5   \n",
            "13404         Canada      CAN 2020-12-15                 727   \n",
            "13405         Canada      CAN 2020-12-16                3025   \n",
            "13406         Canada      CAN 2020-12-17                7279   \n",
            "13407         Canada      CAN 2020-12-18               11296   \n",
            "...              ...      ...        ...                 ...   \n",
            "82362  United States      USA 2020-12-15               84638   \n",
            "82363  United States      USA 2020-12-16              244549   \n",
            "82364  United States      USA 2020-12-17              517161   \n",
            "82365  United States      USA 2020-12-18              933551   \n",
            "82366  United States      USA 2020-12-19             1115437   \n",
            "\n",
            "       people_vaccinated  people_fully_vaccinated  daily_vaccinations_raw  \\\n",
            "13403                5.0                      NaN                       0   \n",
            "13404              727.0                      NaN                     722   \n",
            "13405             3025.0                      NaN                    2298   \n",
            "13406             7279.0                      NaN                    4254   \n",
            "13407            11296.0                      NaN                    4017   \n",
            "...                  ...                      ...                     ...   \n",
            "82362            76984.0                   6281.0                   49771   \n",
            "82363           231496.0                   6757.0                  159911   \n",
            "82364           496980.0                   7507.0                  272612   \n",
            "82365           904656.0                   8718.0                  416390   \n",
            "82366          1082608.0                   9778.0                  181886   \n",
            "\n",
            "       daily_vaccinations  total_vaccinations_per_hundred  \\\n",
            "13403                   0                            0.00   \n",
            "13404                 722                            0.00   \n",
            "13405                1510                            0.01   \n",
            "13406                2425                            0.02   \n",
            "13407                2823                            0.03   \n",
            "...                   ...                             ...   \n",
            "82362               27175                            0.03   \n",
            "82363               71420                            0.07   \n",
            "82364              121718                            0.16   \n",
            "82365              180653                            0.28   \n",
            "82366              180858                            0.34   \n",
            "\n",
            "       people_vaccinated_per_hundred  people_fully_vaccinated_per_hundred  \\\n",
            "13403                           0.00                                  NaN   \n",
            "13404                           0.00                                  NaN   \n",
            "13405                           0.01                                  NaN   \n",
            "13406                           0.02                                  NaN   \n",
            "13407                           0.03                                  NaN   \n",
            "...                              ...                                  ...   \n",
            "82362                           0.02                                  0.0   \n",
            "82363                           0.07                                  0.0   \n",
            "82364                           0.15                                  0.0   \n",
            "82365                           0.27                                  0.0   \n",
            "82366                           0.33                                  0.0   \n",
            "\n",
            "       daily_vaccinations_per_million  \\\n",
            "13403                             NaN   \n",
            "13404                            19.0   \n",
            "13405                            40.0   \n",
            "13406                            64.0   \n",
            "13407                            74.0   \n",
            "...                               ...   \n",
            "82362                            82.0   \n",
            "82363                           215.0   \n",
            "82364                           367.0   \n",
            "82365                           544.0   \n",
            "82366                           545.0   \n",
            "\n",
            "                                                vaccines  \\\n",
            "13403  Johnson&Johnson, Moderna, Oxford/AstraZeneca, ...   \n",
            "13404  Johnson&Johnson, Moderna, Oxford/AstraZeneca, ...   \n",
            "13405  Johnson&Johnson, Moderna, Oxford/AstraZeneca, ...   \n",
            "13406  Johnson&Johnson, Moderna, Oxford/AstraZeneca, ...   \n",
            "13407  Johnson&Johnson, Moderna, Oxford/AstraZeneca, ...   \n",
            "...                                                  ...   \n",
            "82362          Johnson&Johnson, Moderna, Pfizer/BioNTech   \n",
            "82363          Johnson&Johnson, Moderna, Pfizer/BioNTech   \n",
            "82364          Johnson&Johnson, Moderna, Pfizer/BioNTech   \n",
            "82365          Johnson&Johnson, Moderna, Pfizer/BioNTech   \n",
            "82366          Johnson&Johnson, Moderna, Pfizer/BioNTech   \n",
            "\n",
            "                                             source_name  \\\n",
            "13403  Official data from provinces via covid19tracke...   \n",
            "13404  Official data from provinces via covid19tracke...   \n",
            "13405  Official data from provinces via covid19tracke...   \n",
            "13406  Official data from provinces via covid19tracke...   \n",
            "13407  Official data from provinces via covid19tracke...   \n",
            "...                                                  ...   \n",
            "82362         Centers for Disease Control and Prevention   \n",
            "82363         Centers for Disease Control and Prevention   \n",
            "82364         Centers for Disease Control and Prevention   \n",
            "82365         Centers for Disease Control and Prevention   \n",
            "82366         Centers for Disease Control and Prevention   \n",
            "\n",
            "                                          source_website  \n",
            "13403  https://covid19tracker.ca/vaccinationtracker.html  \n",
            "13404  https://covid19tracker.ca/vaccinationtracker.html  \n",
            "13405  https://covid19tracker.ca/vaccinationtracker.html  \n",
            "13406  https://covid19tracker.ca/vaccinationtracker.html  \n",
            "13407  https://covid19tracker.ca/vaccinationtracker.html  \n",
            "...                                                  ...  \n",
            "82362  https://data.cdc.gov/Vaccinations/COVID-19-Vac...  \n",
            "82363  https://data.cdc.gov/Vaccinations/COVID-19-Vac...  \n",
            "82364  https://data.cdc.gov/Vaccinations/COVID-19-Vac...  \n",
            "82365  https://data.cdc.gov/Vaccinations/COVID-19-Vac...  \n",
            "82366  https://data.cdc.gov/Vaccinations/COVID-19-Vac...  \n",
            "\n",
            "[70 rows x 15 columns]\n"
          ]
        }
      ]
    },
    {
      "cell_type": "markdown",
      "source": [
        "k.- Obtenemos un dataframe denominado pfizer con todos los registros donde se haya utilizado la vacuna Pfizer."
      ],
      "metadata": {
        "id": "wW7H73HEB0Hr"
      }
    },
    {
      "cell_type": "code",
      "source": [
        "pfizer = cv[cv['vaccines'].str.contains('Pfizer')]\n",
        "\n",
        "print(pfizer)"
      ],
      "metadata": {
        "colab": {
          "base_uri": "https://localhost:8080/"
        },
        "id": "w476fyRLD8kx",
        "outputId": "197aee01-50fc-4715-91da-29ba316e5b63"
      },
      "execution_count": 14,
      "outputs": [
        {
          "output_type": "stream",
          "name": "stdout",
          "text": [
            "           country  iso_code       date  total_vaccinations  \\\n",
            "0      Afghanistan       AFG 2021-02-22                   0   \n",
            "1      Afghanistan       AFG 2021-02-23                   0   \n",
            "2      Afghanistan       AFG 2021-02-24                   0   \n",
            "3      Afghanistan       AFG 2021-02-25                   0   \n",
            "4      Afghanistan       AFG 2021-02-26                   0   \n",
            "...            ...       ...        ...                 ...   \n",
            "85069        Wales  OWID_WLS 2022-03-24             6921195   \n",
            "85070        Wales  OWID_WLS 2022-03-25             6923298   \n",
            "85071        Wales  OWID_WLS 2022-03-26             6923706   \n",
            "85072        Wales  OWID_WLS 2022-03-27             6925183   \n",
            "85073        Wales  OWID_WLS 2022-03-28             6927437   \n",
            "\n",
            "       people_vaccinated  people_fully_vaccinated  daily_vaccinations_raw  \\\n",
            "0                    0.0                      NaN                       0   \n",
            "1                    NaN                      NaN                       0   \n",
            "2                    NaN                      NaN                       0   \n",
            "3                    NaN                      NaN                       0   \n",
            "4                    NaN                      NaN                       0   \n",
            "...                  ...                      ...                     ...   \n",
            "85069          2526832.0                2397677.0                    1756   \n",
            "85070          2527100.0                2398097.0                    2103   \n",
            "85071          2527184.0                2398322.0                     408   \n",
            "85072          2528051.0                2398676.0                    1477   \n",
            "85073          2528664.0                2399341.0                    2254   \n",
            "\n",
            "       daily_vaccinations  total_vaccinations_per_hundred  \\\n",
            "0                       0                            0.00   \n",
            "1                    1367                             NaN   \n",
            "2                    1367                             NaN   \n",
            "3                    1367                             NaN   \n",
            "4                    1367                             NaN   \n",
            "...                   ...                             ...   \n",
            "85069                1705                          218.33   \n",
            "85070                1667                          218.40   \n",
            "85071                1519                          218.41   \n",
            "85072                1505                          218.46   \n",
            "85073                1609                          218.53   \n",
            "\n",
            "       people_vaccinated_per_hundred  people_fully_vaccinated_per_hundred  \\\n",
            "0                               0.00                                  NaN   \n",
            "1                                NaN                                  NaN   \n",
            "2                                NaN                                  NaN   \n",
            "3                                NaN                                  NaN   \n",
            "4                                NaN                                  NaN   \n",
            "...                              ...                                  ...   \n",
            "85069                          79.71                                75.64   \n",
            "85070                          79.72                                75.65   \n",
            "85071                          79.72                                75.66   \n",
            "85072                          79.75                                75.67   \n",
            "85073                          79.77                                75.69   \n",
            "\n",
            "       daily_vaccinations_per_million  \\\n",
            "0                                 NaN   \n",
            "1                                34.0   \n",
            "2                                34.0   \n",
            "3                                34.0   \n",
            "4                                34.0   \n",
            "...                               ...   \n",
            "85069                           538.0   \n",
            "85070                           526.0   \n",
            "85071                           479.0   \n",
            "85072                           475.0   \n",
            "85073                           508.0   \n",
            "\n",
            "                                                vaccines  \\\n",
            "0      Johnson&Johnson, Oxford/AstraZeneca, Pfizer/Bi...   \n",
            "1      Johnson&Johnson, Oxford/AstraZeneca, Pfizer/Bi...   \n",
            "2      Johnson&Johnson, Oxford/AstraZeneca, Pfizer/Bi...   \n",
            "3      Johnson&Johnson, Oxford/AstraZeneca, Pfizer/Bi...   \n",
            "4      Johnson&Johnson, Oxford/AstraZeneca, Pfizer/Bi...   \n",
            "...                                                  ...   \n",
            "85069       Moderna, Oxford/AstraZeneca, Pfizer/BioNTech   \n",
            "85070       Moderna, Oxford/AstraZeneca, Pfizer/BioNTech   \n",
            "85071       Moderna, Oxford/AstraZeneca, Pfizer/BioNTech   \n",
            "85072       Moderna, Oxford/AstraZeneca, Pfizer/BioNTech   \n",
            "85073       Moderna, Oxford/AstraZeneca, Pfizer/BioNTech   \n",
            "\n",
            "                            source_name  \\\n",
            "0             World Health Organization   \n",
            "1             World Health Organization   \n",
            "2             World Health Organization   \n",
            "3             World Health Organization   \n",
            "4             World Health Organization   \n",
            "...                                 ...   \n",
            "85069  Government of the United Kingdom   \n",
            "85070  Government of the United Kingdom   \n",
            "85071  Government of the United Kingdom   \n",
            "85072  Government of the United Kingdom   \n",
            "85073  Government of the United Kingdom   \n",
            "\n",
            "                                          source_website  \n",
            "0                               https://covid19.who.int/  \n",
            "1                               https://covid19.who.int/  \n",
            "2                               https://covid19.who.int/  \n",
            "3                               https://covid19.who.int/  \n",
            "4                               https://covid19.who.int/  \n",
            "...                                                  ...  \n",
            "85069  https://coronavirus.data.gov.uk/details/vaccin...  \n",
            "85070  https://coronavirus.data.gov.uk/details/vaccin...  \n",
            "85071  https://coronavirus.data.gov.uk/details/vaccin...  \n",
            "85072  https://coronavirus.data.gov.uk/details/vaccin...  \n",
            "85073  https://coronavirus.data.gov.uk/details/vaccin...  \n",
            "\n",
            "[64193 rows x 15 columns]\n"
          ]
        }
      ]
    },
    {
      "cell_type": "markdown",
      "source": [
        "l.- Guardamos los dataframes generados (conDiferencias, conCantidad, antes20 y pfizer) en un archivo de Excel denominado resultadosReto.xlsx, donde cada dataframe ocupe una hoja diferente."
      ],
      "metadata": {
        "id": "jtjjUZ5pB1XW"
      }
    },
    {
      "cell_type": "code",
      "source": [
        "with pd.ExcelWriter('resultadosReto.xlsx') as writer:\n",
        "  conDiferencias.to_excel(writer, sheet_name='conDiferencias')\n",
        "  conCantidad.to_excel(writer, sheet_name='conCantidad')\n",
        "  antes20.to_excel(writer, sheet_name='antes20')\n",
        "  pfizer.to_excel(writer, sheet_name='pfizer')"
      ],
      "metadata": {
        "id": "FTB9y2NJEkRb"
      },
      "execution_count": 15,
      "outputs": []
    }
  ]
}